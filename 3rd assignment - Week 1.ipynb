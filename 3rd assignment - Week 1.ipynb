{
 "cells": [
  {
   "cell_type": "markdown",
   "metadata": {},
   "source": [
    "# 3. The Battle of Neighbourhoods (Week 1)"
   ]
  },
  {
   "cell_type": "markdown",
   "metadata": {},
   "source": [
    "## 1. Introduction/Business problem"
   ]
  },
  {
   "cell_type": "markdown",
   "metadata": {},
   "source": [
    "Moving around cities can be quite troublesome, mostly when we do not know if the new neighbourhood have everything we indeed want. To make our lifes easier, we'll try to sort this out. We'll be using the Foursquare API to propose the most suitable neighbourhood to move considering we are leaving Toronto, Canada and starting over in New York, US.\n",
    "\n",
    "For this challenge, we'll cluster both neighbourhoods to figure out their similarities and find out which are most similar considering the nearby venues. Once this is done, we'll be able to recommend a new place to start over!\n",
    "\n",
    "In this matter, the purpose of this work is to help people understand there is a way to analyze and mathematically decide where is the best place to start over considering your own needs.\n",
    "\n",
    "Regarding the dataset, we'll levarage the information we have already retrieved in the previous assignments and classes (see bellow). But this time, we'll point out which are the Venues in which we'd like to see in our new neighbourhood, as well as give them a mark (from 1 to 5). This will allow us to use the recommendation techniques to point us out in the right direction.\n",
    "\n",
    "\n",
    "Toronto info - https://en.wikipedia.org/wiki/List_of_postal_codes_of_Canada:_M\n",
    "\n",
    "New York info - https://geo.nyu.edu/catalog/nyu_2451_34572"
   ]
  },
  {
   "cell_type": "markdown",
   "metadata": {},
   "source": [
    "Please take note this exercise is only fictional. So we'll dig up the Toronto dataset and randomly choose a neighbourhood to be our \"starting home\". Once this is selected, we'll mark the venues nearby and move forward to explore the New York data."
   ]
  },
  {
   "cell_type": "code",
   "execution_count": null,
   "metadata": {},
   "outputs": [],
   "source": []
  }
 ],
 "metadata": {
  "kernelspec": {
   "display_name": "Python",
   "language": "python",
   "name": "conda-env-python-py"
  },
  "language_info": {
   "codemirror_mode": {
    "name": "ipython",
    "version": 3
   },
   "file_extension": ".py",
   "mimetype": "text/x-python",
   "name": "python",
   "nbconvert_exporter": "python",
   "pygments_lexer": "ipython3",
   "version": "3.6.11"
  }
 },
 "nbformat": 4,
 "nbformat_minor": 4
}
